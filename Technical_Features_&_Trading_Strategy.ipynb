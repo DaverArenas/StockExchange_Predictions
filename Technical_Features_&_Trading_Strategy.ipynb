{
  "nbformat": 4,
  "nbformat_minor": 0,
  "metadata": {
    "colab": {
      "name": "Technical Features & Trading Strategy.ipynb",
      "provenance": [],
      "collapsed_sections": [],
      "authorship_tag": "ABX9TyNrI8gsNLkQHDfjnmcS0Bwl",
      "include_colab_link": true
    },
    "kernelspec": {
      "name": "python3",
      "display_name": "Python 3"
    },
    "language_info": {
      "name": "python"
    }
  },
  "cells": [
    {
      "cell_type": "markdown",
      "metadata": {
        "id": "view-in-github",
        "colab_type": "text"
      },
      "source": [
        "<a href=\"https://colab.research.google.com/github/DaverArenas/StockExchange_Predictions/blob/main/Technical_Features_%26_Trading_Strategy.ipynb\" target=\"_parent\"><img src=\"https://colab.research.google.com/assets/colab-badge.svg\" alt=\"Open In Colab\"/></a>"
      ]
    },
    {
      "cell_type": "markdown",
      "source": [
        "https://www.kaggle.com/code/onurkoc83/technical-features-trading-strategy/notebook"
      ],
      "metadata": {
        "id": "W75wfJesD2Mh"
      }
    },
    {
      "cell_type": "markdown",
      "source": [
        "https://www.kaggle.com/code/onurkoc83/train-feats-st-list-feats-valid-score-0-6/notebook"
      ],
      "metadata": {
        "id": "ZECGOCWqD-Dr"
      }
    },
    {
      "cell_type": "code",
      "execution_count": null,
      "metadata": {
        "id": "SjI03f2qDzTW"
      },
      "outputs": [],
      "source": [
        ""
      ]
    }
  ]
}