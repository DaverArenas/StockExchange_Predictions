{
  "nbformat": 4,
  "nbformat_minor": 0,
  "metadata": {
    "colab": {
      "name": "Random_Forest_With_Optuna.ipynb",
      "provenance": [],
      "collapsed_sections": [],
      "authorship_tag": "ABX9TyOsWsNnrLJOYNFStwVWZLCL",
      "include_colab_link": true
    },
    "kernelspec": {
      "name": "python3",
      "display_name": "Python 3"
    },
    "language_info": {
      "name": "python"
    }
  },
  "cells": [
    {
      "cell_type": "markdown",
      "metadata": {
        "id": "view-in-github",
        "colab_type": "text"
      },
      "source": [
        "<a href=\"https://colab.research.google.com/github/DaverArenas/StockExchange_Predictions/blob/main/Random_Forest_With_Optuna.ipynb\" target=\"_parent\"><img src=\"https://colab.research.google.com/assets/colab-badge.svg\" alt=\"Open In Colab\"/></a>"
      ]
    },
    {
      "cell_type": "code",
      "execution_count": null,
      "metadata": {
        "id": "7c72eLQc-2no"
      },
      "outputs": [],
      "source": [
        "https://www.kaggle.com/code/musabbirarrafi/random-forest-with-optuna"
      ]
    },
    {
      "cell_type": "markdown",
      "source": [
        "Based on this submission https://www.kaggle.com/code/listeningtounity/random-forest-with-optuna¶"
      ],
      "metadata": {
        "id": "YBw8mKNq--E-"
      }
    },
    {
      "cell_type": "code",
      "source": [
        "import numpy as np\n",
        "import pandas as pd"
      ],
      "metadata": {
        "id": "SBsi3C5E_KPL"
      },
      "execution_count": 1,
      "outputs": []
    }
  ]
}